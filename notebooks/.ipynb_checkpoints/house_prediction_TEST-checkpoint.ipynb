{
 "cells": [
  {
   "cell_type": "code",
   "execution_count": 1,
   "id": "68ce99d4",
   "metadata": {},
   "outputs": [],
   "source": [
    "import pandas as pd\n",
    "import matplotlib.pyplot as plt\n",
    "import seaborn as sns\n",
    "\n",
    "import numpy as np\n",
    "import pandas as pd\n",
    "import seaborn as sns\n",
    "import matplotlib.pyplot as plt\n",
    "import warnings\n",
    "warnings.filterwarnings(\"ignore\")\n",
    "from sklearn.model_selection import train_test_split, cross_val_score\n",
    "from sklearn.preprocessing import StandardScaler\n",
    "from sklearn.metrics import r2_score, mean_absolute_error, mean_squared_error\n",
    "\n",
    "from sklearn.linear_model import LinearRegression\n",
    "from sklearn.linear_model import Ridge\n",
    "from sklearn.linear_model import Lasso\n",
    "from sklearn.linear_model import ElasticNet\n",
    "from sklearn.ensemble import RandomForestRegressor\n",
    "from sklearn.svm import SVR\n",
    "from xgboost import XGBRegressor\n",
    "from sklearn.preprocessing import PolynomialFeatures\n",
    "\n",
    "import joblib"
   ]
  },
  {
   "cell_type": "markdown",
   "id": "db9c788c",
   "metadata": {},
   "source": [
    "### Reading data"
   ]
  },
  {
   "cell_type": "code",
   "execution_count": 2,
   "id": "28ceb281",
   "metadata": {},
   "outputs": [
    {
     "ename": "ValueError",
     "evalue": "Excel file format cannot be determined, you must specify an engine manually.",
     "output_type": "error",
     "traceback": [
      "\u001b[0;31m---------------------------------------------------------------------------\u001b[0m",
      "\u001b[0;31mValueError\u001b[0m                                Traceback (most recent call last)",
      "Cell \u001b[0;32mIn [2], line 1\u001b[0m\n\u001b[0;32m----> 1\u001b[0m peru \u001b[38;5;241m=\u001b[39m \u001b[43mpd\u001b[49m\u001b[38;5;241;43m.\u001b[39;49m\u001b[43mread_excel\u001b[49m\u001b[43m(\u001b[49m\u001b[38;5;124;43m'\u001b[39;49m\u001b[38;5;124;43m../dataset/dataset2.csv\u001b[39;49m\u001b[38;5;124;43m'\u001b[39;49m\u001b[43m)\u001b[49m\n\u001b[1;32m      2\u001b[0m peru\n",
      "File \u001b[0;32m~/.local/lib/python3.10/site-packages/pandas/util/_decorators.py:211\u001b[0m, in \u001b[0;36mdeprecate_kwarg.<locals>._deprecate_kwarg.<locals>.wrapper\u001b[0;34m(*args, **kwargs)\u001b[0m\n\u001b[1;32m    209\u001b[0m     \u001b[38;5;28;01melse\u001b[39;00m:\n\u001b[1;32m    210\u001b[0m         kwargs[new_arg_name] \u001b[38;5;241m=\u001b[39m new_arg_value\n\u001b[0;32m--> 211\u001b[0m \u001b[38;5;28;01mreturn\u001b[39;00m \u001b[43mfunc\u001b[49m\u001b[43m(\u001b[49m\u001b[38;5;241;43m*\u001b[39;49m\u001b[43margs\u001b[49m\u001b[43m,\u001b[49m\u001b[43m \u001b[49m\u001b[38;5;241;43m*\u001b[39;49m\u001b[38;5;241;43m*\u001b[39;49m\u001b[43mkwargs\u001b[49m\u001b[43m)\u001b[49m\n",
      "File \u001b[0;32m~/.local/lib/python3.10/site-packages/pandas/util/_decorators.py:317\u001b[0m, in \u001b[0;36mdeprecate_nonkeyword_arguments.<locals>.decorate.<locals>.wrapper\u001b[0;34m(*args, **kwargs)\u001b[0m\n\u001b[1;32m    311\u001b[0m \u001b[38;5;28;01mif\u001b[39;00m \u001b[38;5;28mlen\u001b[39m(args) \u001b[38;5;241m>\u001b[39m num_allow_args:\n\u001b[1;32m    312\u001b[0m     warnings\u001b[38;5;241m.\u001b[39mwarn(\n\u001b[1;32m    313\u001b[0m         msg\u001b[38;5;241m.\u001b[39mformat(arguments\u001b[38;5;241m=\u001b[39marguments),\n\u001b[1;32m    314\u001b[0m         \u001b[38;5;167;01mFutureWarning\u001b[39;00m,\n\u001b[1;32m    315\u001b[0m         stacklevel\u001b[38;5;241m=\u001b[39mfind_stack_level(inspect\u001b[38;5;241m.\u001b[39mcurrentframe()),\n\u001b[1;32m    316\u001b[0m     )\n\u001b[0;32m--> 317\u001b[0m \u001b[38;5;28;01mreturn\u001b[39;00m \u001b[43mfunc\u001b[49m\u001b[43m(\u001b[49m\u001b[38;5;241;43m*\u001b[39;49m\u001b[43margs\u001b[49m\u001b[43m,\u001b[49m\u001b[43m \u001b[49m\u001b[38;5;241;43m*\u001b[39;49m\u001b[38;5;241;43m*\u001b[39;49m\u001b[43mkwargs\u001b[49m\u001b[43m)\u001b[49m\n",
      "File \u001b[0;32m~/.local/lib/python3.10/site-packages/pandas/io/excel/_base.py:483\u001b[0m, in \u001b[0;36mread_excel\u001b[0;34m(io, sheet_name, header, names, index_col, usecols, squeeze, dtype, engine, converters, true_values, false_values, skiprows, nrows, na_values, keep_default_na, na_filter, verbose, parse_dates, date_parser, thousands, decimal, comment, skipfooter, convert_float, mangle_dupe_cols, storage_options)\u001b[0m\n\u001b[1;32m    481\u001b[0m \u001b[38;5;28;01mif\u001b[39;00m \u001b[38;5;129;01mnot\u001b[39;00m \u001b[38;5;28misinstance\u001b[39m(io, ExcelFile):\n\u001b[1;32m    482\u001b[0m     should_close \u001b[38;5;241m=\u001b[39m \u001b[38;5;28;01mTrue\u001b[39;00m\n\u001b[0;32m--> 483\u001b[0m     io \u001b[38;5;241m=\u001b[39m \u001b[43mExcelFile\u001b[49m\u001b[43m(\u001b[49m\u001b[43mio\u001b[49m\u001b[43m,\u001b[49m\u001b[43m \u001b[49m\u001b[43mstorage_options\u001b[49m\u001b[38;5;241;43m=\u001b[39;49m\u001b[43mstorage_options\u001b[49m\u001b[43m,\u001b[49m\u001b[43m \u001b[49m\u001b[43mengine\u001b[49m\u001b[38;5;241;43m=\u001b[39;49m\u001b[43mengine\u001b[49m\u001b[43m)\u001b[49m\n\u001b[1;32m    484\u001b[0m \u001b[38;5;28;01melif\u001b[39;00m engine \u001b[38;5;129;01mand\u001b[39;00m engine \u001b[38;5;241m!=\u001b[39m io\u001b[38;5;241m.\u001b[39mengine:\n\u001b[1;32m    485\u001b[0m     \u001b[38;5;28;01mraise\u001b[39;00m \u001b[38;5;167;01mValueError\u001b[39;00m(\n\u001b[1;32m    486\u001b[0m         \u001b[38;5;124m\"\u001b[39m\u001b[38;5;124mEngine should not be specified when passing \u001b[39m\u001b[38;5;124m\"\u001b[39m\n\u001b[1;32m    487\u001b[0m         \u001b[38;5;124m\"\u001b[39m\u001b[38;5;124man ExcelFile - ExcelFile already has the engine set\u001b[39m\u001b[38;5;124m\"\u001b[39m\n\u001b[1;32m    488\u001b[0m     )\n",
      "File \u001b[0;32m~/.local/lib/python3.10/site-packages/pandas/io/excel/_base.py:1633\u001b[0m, in \u001b[0;36mExcelFile.__init__\u001b[0;34m(self, path_or_buffer, engine, storage_options)\u001b[0m\n\u001b[1;32m   1629\u001b[0m     ext \u001b[38;5;241m=\u001b[39m inspect_excel_format(\n\u001b[1;32m   1630\u001b[0m         content_or_path\u001b[38;5;241m=\u001b[39mpath_or_buffer, storage_options\u001b[38;5;241m=\u001b[39mstorage_options\n\u001b[1;32m   1631\u001b[0m     )\n\u001b[1;32m   1632\u001b[0m     \u001b[38;5;28;01mif\u001b[39;00m ext \u001b[38;5;129;01mis\u001b[39;00m \u001b[38;5;28;01mNone\u001b[39;00m:\n\u001b[0;32m-> 1633\u001b[0m         \u001b[38;5;28;01mraise\u001b[39;00m \u001b[38;5;167;01mValueError\u001b[39;00m(\n\u001b[1;32m   1634\u001b[0m             \u001b[38;5;124m\"\u001b[39m\u001b[38;5;124mExcel file format cannot be determined, you must specify \u001b[39m\u001b[38;5;124m\"\u001b[39m\n\u001b[1;32m   1635\u001b[0m             \u001b[38;5;124m\"\u001b[39m\u001b[38;5;124man engine manually.\u001b[39m\u001b[38;5;124m\"\u001b[39m\n\u001b[1;32m   1636\u001b[0m         )\n\u001b[1;32m   1638\u001b[0m engine \u001b[38;5;241m=\u001b[39m config\u001b[38;5;241m.\u001b[39mget_option(\u001b[38;5;124mf\u001b[39m\u001b[38;5;124m\"\u001b[39m\u001b[38;5;124mio.excel.\u001b[39m\u001b[38;5;132;01m{\u001b[39;00mext\u001b[38;5;132;01m}\u001b[39;00m\u001b[38;5;124m.reader\u001b[39m\u001b[38;5;124m\"\u001b[39m, silent\u001b[38;5;241m=\u001b[39m\u001b[38;5;28;01mTrue\u001b[39;00m)\n\u001b[1;32m   1639\u001b[0m \u001b[38;5;28;01mif\u001b[39;00m engine \u001b[38;5;241m==\u001b[39m \u001b[38;5;124m\"\u001b[39m\u001b[38;5;124mauto\u001b[39m\u001b[38;5;124m\"\u001b[39m:\n",
      "\u001b[0;31mValueError\u001b[0m: Excel file format cannot be determined, you must specify an engine manually."
     ]
    }
   ],
   "source": [
    "peru = pd.read_excel('../dataset/dataset2.csv')\n",
    "peru"
   ]
  },
  {
   "cell_type": "code",
   "execution_count": null,
   "id": "13e268d0",
   "metadata": {},
   "outputs": [],
   "source": [
    "dpd = pd.read_excel('../dataset/peru.xlsx')\n",
    "dpd"
   ]
  },
  {
   "cell_type": "code",
   "execution_count": null,
   "id": "138af5d8",
   "metadata": {},
   "outputs": [],
   "source": [
    "dpd.info()"
   ]
  },
  {
   "cell_type": "code",
   "execution_count": null,
   "id": "cd29cf01",
   "metadata": {},
   "outputs": [],
   "source": [
    "dpd = dpd.apply(lambda x: x.str.lower() if x.dtype == \"object\" else x)  \n",
    "dpd"
   ]
  },
  {
   "cell_type": "code",
   "execution_count": null,
   "id": "aef57843",
   "metadata": {},
   "outputs": [],
   "source": [
    "departamentos = dpd['Departamento'].unique()\n",
    "len(departamentos)"
   ]
  },
  {
   "cell_type": "code",
   "execution_count": null,
   "id": "86e16506",
   "metadata": {},
   "outputs": [],
   "source": [
    "provincias = dpd['Provincia'].unique()\n",
    "len(provincias)"
   ]
  },
  {
   "cell_type": "code",
   "execution_count": null,
   "id": "0a6d7a66",
   "metadata": {},
   "outputs": [],
   "source": [
    "distritos = dpd['Distrito'].unique()\n",
    "len(distritos)\n",
    "                "
   ]
  },
  {
   "cell_type": "code",
   "execution_count": null,
   "id": "d0faa94e",
   "metadata": {},
   "outputs": [],
   "source": [
    "provincias = [x for x in provincias if str(x) != 'nan']\n",
    "len(provincias)"
   ]
  },
  {
   "cell_type": "code",
   "execution_count": null,
   "id": "ea6a7c37",
   "metadata": {},
   "outputs": [],
   "source": [
    "provincias[0:10]"
   ]
  },
  {
   "cell_type": "markdown",
   "id": "eb2fcba6",
   "metadata": {},
   "source": [
    "### Remove trailing newline from the elements of the list"
   ]
  },
  {
   "cell_type": "code",
   "execution_count": null,
   "id": "54c7cb07",
   "metadata": {},
   "outputs": [],
   "source": [
    "departamentos = list(map(str.strip, departamentos))\n",
    "departamentos[0:10]"
   ]
  },
  {
   "cell_type": "code",
   "execution_count": null,
   "id": "498e24fe",
   "metadata": {},
   "outputs": [],
   "source": [
    "provincias = list(map(str.strip, provincias))\n",
    "provincias[0:10]"
   ]
  },
  {
   "cell_type": "code",
   "execution_count": null,
   "id": "46a6af38",
   "metadata": {},
   "outputs": [],
   "source": [
    "distritos = [x for x in distritos if str(x) != 'nan']\n",
    "len(distritos)"
   ]
  },
  {
   "cell_type": "code",
   "execution_count": null,
   "id": "164f2cda",
   "metadata": {},
   "outputs": [],
   "source": [
    "distritos = list(map(str.strip, distritos))\n"
   ]
  },
  {
   "cell_type": "markdown",
   "id": "77361e58",
   "metadata": {},
   "source": [
    "### Concat names as ONE HOT ENCODING"
   ]
  },
  {
   "cell_type": "code",
   "execution_count": null,
   "id": "ffae46b7",
   "metadata": {},
   "outputs": [],
   "source": [
    "departamentos = list(map(lambda x: 'Departamento_' + x, departamentos))\n",
    "departamentos[0:10]"
   ]
  },
  {
   "cell_type": "code",
   "execution_count": null,
   "id": "6dcc25f6",
   "metadata": {},
   "outputs": [],
   "source": [
    "provincias = list(map(lambda x: 'Provincia_' + x, provincias))\n",
    "provincias[0:10]"
   ]
  },
  {
   "cell_type": "code",
   "execution_count": null,
   "id": "0c31e32a",
   "metadata": {},
   "outputs": [],
   "source": [
    "distritos = list(map(lambda x: 'Distrito_' + x, distritos))\n",
    "distritos[0:10]"
   ]
  },
  {
   "cell_type": "code",
   "execution_count": null,
   "id": "d0784954",
   "metadata": {},
   "outputs": [],
   "source": [
    "### Create dataframe to concat after ONE HOT ENCODING"
   ]
  },
  {
   "cell_type": "code",
   "execution_count": null,
   "id": "7a9217fe",
   "metadata": {},
   "outputs": [],
   "source": [
    "dpd_df = pd.DataFrame(columns=departamentos+provincias+distritos)\n",
    "dpd_df"
   ]
  },
  {
   "cell_type": "code",
   "execution_count": null,
   "id": "66b0e7f4",
   "metadata": {},
   "outputs": [],
   "source": [
    "peru.columns"
   ]
  },
  {
   "cell_type": "code",
   "execution_count": null,
   "id": "02950f68",
   "metadata": {},
   "outputs": [],
   "source": [
    "peru.columns = peru.columns.str.replace(\" \", \"_\")"
   ]
  },
  {
   "cell_type": "code",
   "execution_count": null,
   "id": "2a9edcb5",
   "metadata": {},
   "outputs": [],
   "source": [
    "peru.columns"
   ]
  },
  {
   "cell_type": "code",
   "execution_count": null,
   "id": "5b6abda7",
   "metadata": {
    "scrolled": true
   },
   "outputs": [],
   "source": [
    "peru.describe().T"
   ]
  },
  {
   "cell_type": "code",
   "execution_count": null,
   "id": "36ab92fd",
   "metadata": {},
   "outputs": [],
   "source": [
    "peru.info()"
   ]
  },
  {
   "cell_type": "markdown",
   "id": "7dee34c7",
   "metadata": {},
   "source": [
    "### Changing DTYPES to columns according to the DICTIONARY OF FIELDS"
   ]
  },
  {
   "cell_type": "code",
   "execution_count": null,
   "id": "4914e60b",
   "metadata": {},
   "outputs": [],
   "source": [
    "peru['Área_Terreno'].unique()"
   ]
  },
  {
   "cell_type": "code",
   "execution_count": null,
   "id": "fb93b09e",
   "metadata": {},
   "outputs": [],
   "source": [
    "from datetime import datetime"
   ]
  },
  {
   "cell_type": "code",
   "execution_count": null,
   "id": "7aec71e4",
   "metadata": {},
   "outputs": [],
   "source": [
    "peru['Área_Terreno'].info()"
   ]
  },
  {
   "cell_type": "code",
   "execution_count": null,
   "id": "20129738",
   "metadata": {},
   "outputs": [],
   "source": [
    "peru['Área_Terreno']"
   ]
  },
  {
   "cell_type": "code",
   "execution_count": null,
   "id": "209addfb",
   "metadata": {},
   "outputs": [],
   "source": [
    "peru = peru[peru['Área_Terreno'].apply(lambda x: type(x) != datetime or x== 'NaN')]"
   ]
  },
  {
   "cell_type": "code",
   "execution_count": null,
   "id": "4638e475",
   "metadata": {},
   "outputs": [],
   "source": [
    "peru['Área_Terreno']"
   ]
  },
  {
   "cell_type": "code",
   "execution_count": null,
   "id": "19178a77",
   "metadata": {},
   "outputs": [],
   "source": [
    "peru"
   ]
  },
  {
   "cell_type": "code",
   "execution_count": null,
   "id": "7458807a",
   "metadata": {},
   "outputs": [],
   "source": [
    "peru['Número_de_estacionamiento'] = peru['Número_de_estacionamiento'].astype('float64')"
   ]
  },
  {
   "cell_type": "code",
   "execution_count": null,
   "id": "c2e70135",
   "metadata": {},
   "outputs": [],
   "source": [
    "peru['Latitud_(Decimal)'] = peru['Latitud_(Decimal)'].replace(',','', regex=True)"
   ]
  },
  {
   "cell_type": "code",
   "execution_count": null,
   "id": "aa54adf2",
   "metadata": {},
   "outputs": [],
   "source": [
    "peru['Latitud_(Decimal)'] = peru['Latitud_(Decimal)'].astype('float64')"
   ]
  },
  {
   "cell_type": "code",
   "execution_count": null,
   "id": "1d7d54e1",
   "metadata": {},
   "outputs": [],
   "source": [
    "peru['Longitud_(Decimal)'] = peru['Longitud_(Decimal)'].replace(',','', regex=True)"
   ]
  },
  {
   "cell_type": "code",
   "execution_count": null,
   "id": "9a5f99b2",
   "metadata": {},
   "outputs": [],
   "source": [
    "peru['Longitud_(Decimal)'] = peru['Longitud_(Decimal)'].astype('float64')"
   ]
  },
  {
   "cell_type": "code",
   "execution_count": null,
   "id": "2b6b6d83",
   "metadata": {},
   "outputs": [],
   "source": [
    "peru['Área_Terreno'] = peru['Área_Terreno'].replace(',','', regex=True)"
   ]
  },
  {
   "cell_type": "code",
   "execution_count": null,
   "id": "2c97a6bd",
   "metadata": {},
   "outputs": [],
   "source": [
    "peru['Área_Terreno'] = peru['Área_Terreno'].astype('float64')"
   ]
  },
  {
   "cell_type": "code",
   "execution_count": null,
   "id": "b1026e9a",
   "metadata": {},
   "outputs": [],
   "source": [
    "peru['Área_Construcción'] = peru['Área_Construcción'].replace(',','', regex=True)"
   ]
  },
  {
   "cell_type": "code",
   "execution_count": null,
   "id": "6d4539ad",
   "metadata": {},
   "outputs": [],
   "source": [
    "peru['Área_Construcción'] = peru['Área_Construcción'].astype('float64')"
   ]
  },
  {
   "cell_type": "code",
   "execution_count": null,
   "id": "9d5c6ecd",
   "metadata": {},
   "outputs": [],
   "source": [
    "peru.columns"
   ]
  },
  {
   "cell_type": "code",
   "execution_count": null,
   "id": "1ea394aa",
   "metadata": {},
   "outputs": [],
   "source": [
    "peru['Valor_comercial_(USD)'] = peru['Valor_comercial_(USD)'].replace(',','', regex=True)"
   ]
  },
  {
   "cell_type": "code",
   "execution_count": null,
   "id": "35d5f4b6",
   "metadata": {},
   "outputs": [],
   "source": [
    "peru['Valor_comercial_(USD)'] = peru['Valor_comercial_(USD)'].astype('float64')"
   ]
  },
  {
   "cell_type": "code",
   "execution_count": null,
   "id": "72e7502a",
   "metadata": {},
   "outputs": [],
   "source": [
    "peru.info()"
   ]
  },
  {
   "cell_type": "code",
   "execution_count": null,
   "id": "3af5474e",
   "metadata": {},
   "outputs": [],
   "source": [
    "# peru = peru.drop(peru.iloc[:,[19]], axis=1)\n",
    "# peru"
   ]
  },
  {
   "cell_type": "code",
   "execution_count": null,
   "id": "05f32ae9",
   "metadata": {},
   "outputs": [],
   "source": [
    "unique_values = peru.apply(lambda col: col.unique())\n",
    "unique_values\n"
   ]
  },
  {
   "cell_type": "code",
   "execution_count": null,
   "id": "3819e032",
   "metadata": {},
   "outputs": [],
   "source": [
    "for value in unique_values:\n",
    "    print(value)"
   ]
  },
  {
   "cell_type": "code",
   "execution_count": null,
   "id": "8e0d0e93",
   "metadata": {
    "scrolled": true
   },
   "outputs": [],
   "source": [
    "peru.loc[:, peru.dtypes==object]"
   ]
  },
  {
   "cell_type": "code",
   "execution_count": null,
   "id": "ecddb955",
   "metadata": {},
   "outputs": [],
   "source": [
    "peru.apply(lambda x: x.str.lower() if x.dtype == \"object\" else x)  \n"
   ]
  },
  {
   "cell_type": "code",
   "execution_count": null,
   "id": "ccb5efdd",
   "metadata": {},
   "outputs": [],
   "source": [
    "unique_values = peru.apply(lambda col: col.unique())\n",
    "unique_values"
   ]
  },
  {
   "cell_type": "code",
   "execution_count": null,
   "id": "484f1c08",
   "metadata": {},
   "outputs": [],
   "source": [
    "for value in unique_values:\n",
    "    print(value)"
   ]
  },
  {
   "cell_type": "code",
   "execution_count": null,
   "id": "1db0abe0",
   "metadata": {},
   "outputs": [],
   "source": [
    "lon = peru['Longitud_(Decimal)']\n",
    "lon"
   ]
  },
  {
   "cell_type": "code",
   "execution_count": null,
   "id": "3710504e",
   "metadata": {},
   "outputs": [],
   "source": [
    "lat = peru['Latitud_(Decimal)']\n",
    "lat"
   ]
  },
  {
   "cell_type": "code",
   "execution_count": null,
   "id": "1305914f",
   "metadata": {},
   "outputs": [],
   "source": [
    "plt.scatter(x=lon, y=lat)"
   ]
  },
  {
   "cell_type": "code",
   "execution_count": null,
   "id": "6410608b",
   "metadata": {},
   "outputs": [],
   "source": [
    "# importing modules\n",
    "# from geopy.geocoders import Nominatim\n",
    "\n",
    "# def location(dataframe):\n",
    "#     # calling the nominatim tool\n",
    "#     geoLoc = Nominatim(user_agent=\"GetLoc\")\n",
    "#     countries = []\n",
    "#     fail_loc = []\n",
    "    \n",
    "#     for i in range(5):\n",
    "#         # print(\"yo soy latitud: \",dataframe.iloc[i,0])\n",
    "#         # print(\"yo soy longitud: \",dataframe.iloc[i,1])\n",
    "#         latitud = dataframe.iloc[i,0]\n",
    "#         longitud = dataframe.iloc[i,1]\n",
    "#         try:\n",
    "#             locname = geoLoc.reverse((latitud, longitud))\n",
    "#             countries.append(locname)\n",
    "#         except Exception:\n",
    "#             fail_loc.append(i)\n",
    "#     # printing the address/location name\n",
    "#     # print(countries)\n",
    "#     print(*countries, sep=\"\\n\")\n",
    "#     print(\"FAIL COORDENADAS: \", fail_loc)\n",
    "#     print(len(countries))"
   ]
  },
  {
   "cell_type": "code",
   "execution_count": null,
   "id": "9cabb80a",
   "metadata": {},
   "outputs": [],
   "source": [
    "# location(peru[['Latitud_(Decimal)', 'Longitud_(Decimal)']])"
   ]
  },
  {
   "cell_type": "code",
   "execution_count": null,
   "id": "6b016370",
   "metadata": {},
   "outputs": [],
   "source": [
    "peru[['Latitud_(Decimal)', 'Longitud_(Decimal)']].shape[0]"
   ]
  },
  {
   "cell_type": "code",
   "execution_count": null,
   "id": "f5ac1ba1",
   "metadata": {},
   "outputs": [],
   "source": [
    "peru[['Latitud_(Decimal)', 'Longitud_(Decimal)']]"
   ]
  },
  {
   "cell_type": "code",
   "execution_count": null,
   "id": "41dd244a",
   "metadata": {},
   "outputs": [],
   "source": [
    "plt.boxplot(peru['Valor_comercial_(USD)'])"
   ]
  },
  {
   "cell_type": "code",
   "execution_count": null,
   "id": "d48d30ea",
   "metadata": {},
   "outputs": [],
   "source": [
    "null = peru.isna().sum()\n",
    "miss_per = pd.DataFrame(null[null>0])\n",
    "miss_per.columns=['Missing']\n",
    "miss_per['Missing%']=((miss_per['Missing']/53254)*100).round(2)\n",
    "miss_per"
   ]
  },
  {
   "cell_type": "markdown",
   "id": "e406ea1c",
   "metadata": {},
   "source": [
    "### Drop columns with the most NAN values and unnecessary columns"
   ]
  },
  {
   "cell_type": "code",
   "execution_count": null,
   "id": "99115f70",
   "metadata": {},
   "outputs": [],
   "source": [
    "# Delete columns containing either 90% or more than 90% NaN Values\n",
    "perc = 90.0\n",
    "min_count =  int(((100-perc)/100)*peru.shape[0] + 1)\n",
    "peru = peru.dropna( axis=1, thresh=min_count)\n"
   ]
  },
  {
   "cell_type": "code",
   "execution_count": null,
   "id": "e0b4282c",
   "metadata": {},
   "outputs": [],
   "source": [
    "peru = peru.drop('Fecha_entrega_del_Informe', axis=1)"
   ]
  },
  {
   "cell_type": "code",
   "execution_count": null,
   "id": "16329069",
   "metadata": {},
   "outputs": [],
   "source": [
    "peru"
   ]
  },
  {
   "cell_type": "code",
   "execution_count": null,
   "id": "b8c06e91",
   "metadata": {},
   "outputs": [],
   "source": [
    "peru = peru.drop('ID', axis=1)"
   ]
  },
  {
   "cell_type": "markdown",
   "id": "4ffe42e5",
   "metadata": {},
   "source": [
    "### Check all missing values"
   ]
  },
  {
   "cell_type": "code",
   "execution_count": null,
   "id": "f87554be",
   "metadata": {},
   "outputs": [],
   "source": [
    "null = peru.isna().sum()\n",
    "miss_per = pd.DataFrame(null[null>0])\n",
    "miss_per.columns=['Missing']\n",
    "miss_per['Missing%']=((miss_per['Missing']/53254)*100).round(2)\n",
    "miss_per"
   ]
  },
  {
   "cell_type": "markdown",
   "id": "e3c92afb",
   "metadata": {},
   "source": [
    "### Fill NaN Values"
   ]
  },
  {
   "cell_type": "markdown",
   "id": "9cf6336b",
   "metadata": {},
   "source": [
    "Tipo de via -> moda\n",
    "\n",
    "Número de estacionamiento -> moda\n",
    "\n",
    "Depósitos -> moda\n",
    "\n",
    "Latitud -> Interpolation\n",
    "\n",
    "Longitud -> Interpolation\n",
    "\n",
    "Categoria del bien -> moda\n",
    "\n",
    "Edad -> mean\n",
    "\n",
    "Estado de conservacion -> moda\n",
    "\n",
    "Metodo Representado -> moda\n",
    "\n",
    "Area terreno -> moda\n",
    "\n",
    "Area construccion -> moda\n"
   ]
  },
  {
   "cell_type": "code",
   "execution_count": null,
   "id": "aaaa68a2",
   "metadata": {},
   "outputs": [],
   "source": [
    "peru['Tipo_de_vía'].fillna(peru['Tipo_de_vía'].mode().iloc[0], inplace=True)"
   ]
  },
  {
   "cell_type": "code",
   "execution_count": null,
   "id": "334b521b",
   "metadata": {},
   "outputs": [],
   "source": [
    "peru['Número_de_estacionamiento'].fillna(peru['Número_de_estacionamiento'].mode().iloc[0], inplace=True)"
   ]
  },
  {
   "cell_type": "code",
   "execution_count": null,
   "id": "eb41f0e4",
   "metadata": {},
   "outputs": [],
   "source": [
    "peru['Depósitos'].fillna(peru['Depósitos'].mode().iloc[0], inplace=True)"
   ]
  },
  {
   "cell_type": "code",
   "execution_count": null,
   "id": "65f237e6",
   "metadata": {},
   "outputs": [],
   "source": [
    "peru['Latitud_(Decimal)'] = peru['Latitud_(Decimal)'].interpolate(method='linear', axis=0)"
   ]
  },
  {
   "cell_type": "code",
   "execution_count": null,
   "id": "8a9dd646",
   "metadata": {},
   "outputs": [],
   "source": [
    "peru['Longitud_(Decimal)'] = peru['Longitud_(Decimal)'].interpolate(method='linear', axis=0)"
   ]
  },
  {
   "cell_type": "code",
   "execution_count": null,
   "id": "4f97e391",
   "metadata": {},
   "outputs": [],
   "source": [
    "peru['Categoría_del_bien'].fillna(peru['Categoría_del_bien'].mode().iloc[0], inplace=True)"
   ]
  },
  {
   "cell_type": "code",
   "execution_count": null,
   "id": "cce4ebfc",
   "metadata": {},
   "outputs": [],
   "source": [
    "peru['Edad'].fillna(peru['Edad'].mode().iloc[0], inplace=True)"
   ]
  },
  {
   "cell_type": "code",
   "execution_count": null,
   "id": "5ad39c2c",
   "metadata": {},
   "outputs": [],
   "source": [
    "peru['Estado_de_conservación'].fillna(peru['Estado_de_conservación'].mode().iloc[0], inplace=True)"
   ]
  },
  {
   "cell_type": "code",
   "execution_count": null,
   "id": "e06fd5e3",
   "metadata": {},
   "outputs": [],
   "source": [
    "peru['Método_Representado'].fillna(peru['Método_Representado'].mode().iloc[0], inplace=True)"
   ]
  },
  {
   "cell_type": "code",
   "execution_count": null,
   "id": "1bfec916",
   "metadata": {},
   "outputs": [],
   "source": [
    "peru['Área_Terreno'].fillna(peru['Área_Terreno'].mode().iloc[0], inplace=True)"
   ]
  },
  {
   "cell_type": "code",
   "execution_count": null,
   "id": "d4d60b98",
   "metadata": {},
   "outputs": [],
   "source": [
    "peru['Área_Construcción'].fillna(peru['Área_Construcción'].mode().iloc[0], inplace=True)"
   ]
  },
  {
   "cell_type": "markdown",
   "id": "1a53e016",
   "metadata": {},
   "source": [
    "### Check all missing values again..."
   ]
  },
  {
   "cell_type": "code",
   "execution_count": null,
   "id": "f9aa9c59",
   "metadata": {},
   "outputs": [],
   "source": [
    "null = peru.isna().sum()\n",
    "miss_per = pd.DataFrame(null[null>0])\n",
    "miss_per.columns=['Missing']\n",
    "miss_per['Missing%']=((miss_per['Missing']/53254)*100).round(2)\n",
    "miss_per"
   ]
  },
  {
   "cell_type": "markdown",
   "id": "02e4a69c",
   "metadata": {},
   "source": [
    "### ok... no more missing values ! :D"
   ]
  },
  {
   "cell_type": "markdown",
   "id": "50d8ea8e",
   "metadata": {},
   "source": [
    "### Visualizing the correlations between numerical variables"
   ]
  },
  {
   "cell_type": "code",
   "execution_count": null,
   "id": "55de4b99",
   "metadata": {},
   "outputs": [],
   "source": [
    "plt.figure(figsize=(10, 8))\n",
    "sns.heatmap(peru.corr(), cmap=\"RdBu\")\n",
    "plt.title(\"Correlations between variables\", size=15)\n",
    "plt.show()"
   ]
  },
  {
   "cell_type": "code",
   "execution_count": null,
   "id": "00b7cb71",
   "metadata": {},
   "outputs": [],
   "source": [
    "peru"
   ]
  },
  {
   "cell_type": "code",
   "execution_count": null,
   "id": "fe5e61ca",
   "metadata": {},
   "outputs": [],
   "source": [
    "peru.info()"
   ]
  },
  {
   "cell_type": "code",
   "execution_count": null,
   "id": "c6dd6bfc",
   "metadata": {},
   "outputs": [],
   "source": [
    "peru.columns"
   ]
  },
  {
   "cell_type": "markdown",
   "id": "3a14f6e4",
   "metadata": {},
   "source": [
    "### One-Hot Encoding\n",
    "Encoding the categorical features in X dataset by using One-Hot Encoding method"
   ]
  },
  {
   "cell_type": "code",
   "execution_count": null,
   "id": "b263b737",
   "metadata": {},
   "outputs": [],
   "source": []
  },
  {
   "cell_type": "code",
   "execution_count": null,
   "id": "5200d4a3",
   "metadata": {},
   "outputs": [],
   "source": [
    "cat_cols = [\"Departamento\",\n",
    "            \"Provincia\" ,\n",
    "            \"Distrito\",\n",
    "            \"Categoría_del_bien\",\n",
    "            \"Estado_de_conservación\",\n",
    "            \"Método_Representado\"]\n",
    "peru = pd.get_dummies(peru, columns=cat_cols)"
   ]
  },
  {
   "cell_type": "code",
   "execution_count": null,
   "id": "d86cbc4e",
   "metadata": {},
   "outputs": [],
   "source": [
    "peru"
   ]
  },
  {
   "cell_type": "code",
   "execution_count": null,
   "id": "3b8fe375",
   "metadata": {},
   "outputs": [],
   "source": [
    "peru = pd.concat([peru, dpd_df])\n",
    "peru.shape"
   ]
  },
  {
   "cell_type": "code",
   "execution_count": null,
   "id": "f291632d",
   "metadata": {},
   "outputs": [],
   "source": [
    "peru.fillna(0, inplace=True)"
   ]
  },
  {
   "cell_type": "code",
   "execution_count": null,
   "id": "69ee67d8",
   "metadata": {},
   "outputs": [],
   "source": [
    "peru"
   ]
  },
  {
   "cell_type": "code",
   "execution_count": null,
   "id": "857edd66",
   "metadata": {},
   "outputs": [],
   "source": [
    "null = peru.isna().sum()\n",
    "miss_per = pd.DataFrame(null[null>0])\n",
    "miss_per.columns=['Missing']\n",
    "miss_per['Missing%']=((miss_per['Missing']/53254)*100).round(2)\n",
    "miss_per"
   ]
  },
  {
   "cell_type": "code",
   "execution_count": null,
   "id": "1baca4a3",
   "metadata": {},
   "outputs": [],
   "source": [
    "peru.columns"
   ]
  },
  {
   "cell_type": "markdown",
   "id": "b04c0523",
   "metadata": {},
   "source": [
    "### Splitting data X, y"
   ]
  },
  {
   "cell_type": "code",
   "execution_count": null,
   "id": "c71eeb22",
   "metadata": {},
   "outputs": [],
   "source": [
    "y = peru['Valor_comercial_(USD)']"
   ]
  },
  {
   "cell_type": "code",
   "execution_count": null,
   "id": "fce4144c",
   "metadata": {},
   "outputs": [],
   "source": [
    "X = peru.drop(['Valor_comercial_(USD)'], axis=1)"
   ]
  },
  {
   "cell_type": "code",
   "execution_count": null,
   "id": "d4d3df4a",
   "metadata": {},
   "outputs": [],
   "source": [
    "X"
   ]
  },
  {
   "cell_type": "markdown",
   "id": "904a4f0f",
   "metadata": {},
   "source": [
    "### Standardizing the Data\n",
    "Standardizing the numerical columns in X dataset. StandardScaler() adjusts the mean of the features as 0 and standard deviation of features as 1. Formula that StandardScaler() uses is as follows\n",
    "\n",
    "# $$ z=\\frac{x-\\mu}{\\sigma} $$"
   ]
  },
  {
   "cell_type": "code",
   "execution_count": null,
   "id": "7b1d29f2",
   "metadata": {},
   "outputs": [],
   "source": [
    "important_num_cols = [\n",
    "    \"Tipo_de_vía\",\n",
    "    \"Número_de_estacionamiento\",\n",
    "    \"Depósitos\",\n",
    "    \"Latitud_(Decimal)\",\n",
    "    \"Longitud_(Decimal)\",\n",
    "    \"Edad\",\n",
    "    \"Área_Terreno\",\n",
    "    \"Área_Construcción\",\n",
    "]\n",
    "\n",
    "scaler = StandardScaler()\n",
    "X[important_num_cols] = scaler.fit_transform(X[important_num_cols])"
   ]
  },
  {
   "cell_type": "code",
   "execution_count": null,
   "id": "8ae427b2",
   "metadata": {},
   "outputs": [],
   "source": [
    "X"
   ]
  },
  {
   "cell_type": "markdown",
   "id": "ab98b19a",
   "metadata": {},
   "source": [
    "### Train-Test-Validation Split\n",
    "Splitting the data into Train and Test chunks for better evaluation"
   ]
  },
  {
   "cell_type": "code",
   "execution_count": null,
   "id": "dfe095ad",
   "metadata": {},
   "outputs": [],
   "source": [
    "X_train, X_test, y_train, y_test = train_test_split(X, y, test_size=0.2, random_state=42)"
   ]
  },
  {
   "cell_type": "code",
   "execution_count": null,
   "id": "c703f937",
   "metadata": {},
   "outputs": [],
   "source": [
    "X_train, X_val, y_train, y_val = train_test_split(X_train, y_train, test_size=0.25, random_state=1)"
   ]
  },
  {
   "cell_type": "code",
   "execution_count": null,
   "id": "3a7589f0",
   "metadata": {},
   "outputs": [],
   "source": [
    "train = pd.concat([pd.Series(y_train, index=X_train.index,\n",
    "                            name='price', dtype=int), X_train], axis=1)"
   ]
  },
  {
   "cell_type": "code",
   "execution_count": null,
   "id": "045e3151",
   "metadata": {},
   "outputs": [],
   "source": [
    "validation = pd.concat([pd.Series(y_val, index=X_val.index,\n",
    "                            name='price', dtype=int), X_val], axis=1)"
   ]
  },
  {
   "cell_type": "code",
   "execution_count": null,
   "id": "c54b3018",
   "metadata": {},
   "outputs": [],
   "source": [
    "test = pd.concat([pd.Series(y_test, index=X_test.index,\n",
    "                            name='price', dtype=int), X_test], axis=1)"
   ]
  },
  {
   "cell_type": "code",
   "execution_count": null,
   "id": "8a014e3c",
   "metadata": {},
   "outputs": [],
   "source": [
    "train"
   ]
  },
  {
   "cell_type": "code",
   "execution_count": null,
   "id": "84d2177c",
   "metadata": {},
   "outputs": [],
   "source": [
    "test"
   ]
  },
  {
   "cell_type": "code",
   "execution_count": null,
   "id": "5cca31be",
   "metadata": {},
   "outputs": [],
   "source": [
    "validation"
   ]
  },
  {
   "cell_type": "markdown",
   "id": "e92ea81a",
   "metadata": {},
   "source": [
    "### Defining several evaluation functions for convenience"
   ]
  },
  {
   "cell_type": "code",
   "execution_count": null,
   "id": "66ae1416",
   "metadata": {},
   "outputs": [],
   "source": [
    "def rmse_cv(model):\n",
    "    rmse = np.sqrt(-cross_val_score(model, X, y, scoring=\"neg_mean_squared_error\", cv=5)).mean()\n",
    "    return rmse\n",
    "\n",
    "def evaluation(y, predicitons):\n",
    "    mae = mean_absolute_error(y, predicitons)\n",
    "    mse = mean_squared_error(y, predicitons)\n",
    "    rmse = np.sqrt(mean_squared_error(y, predicitons))\n",
    "    r_squared = r2_score(y, predicitons)\n",
    "    return mae, mse, rmse, r_squared\n",
    "\n",
    "def save(model, type_model):\n",
    "    filename = type_model + '.joblib'\n",
    "    joblib.dump(model, filename)\n",
    "    print(\"### model persisted ####\" )"
   ]
  },
  {
   "cell_type": "code",
   "execution_count": null,
   "id": "d46d7dbb",
   "metadata": {},
   "outputs": [],
   "source": [
    "def plot_model_performance(y, predictions, model):\n",
    "    fig, ax = plt.subplots()\n",
    "    fig.set_figheight(8)\n",
    "    fig.set_figwidth(8)\n",
    "    sns.regplot(x=predictions, y=y, ax=ax)\n",
    "    ax.set_xlabel('Predicted price')\n",
    "    ax.set_ylabel('Real price')\n",
    "    ax.set_title('Behavior of {} model prediction'.format(model))\n",
    "    plt.show()"
   ]
  },
  {
   "cell_type": "code",
   "execution_count": null,
   "id": "c842f66f",
   "metadata": {},
   "outputs": [],
   "source": [
    "models = pd.DataFrame(columns=[\"Model\", \"MAE\", \"MSE\", \"RMSE\", \"R2 Score\", \"RMSE (Cross-Validation)\"])\n",
    "models"
   ]
  },
  {
   "cell_type": "markdown",
   "id": "babadc7f",
   "metadata": {},
   "source": [
    "### Linear regression\n",
    "The model is not penalized for its choice of weights, at all.\n",
    "\n",
    "That means, during the training stage, if the model feels like one particular feature is particularly important, \n",
    "the model may place a large weight to the feature.\n",
    "\n",
    "This sometimes leads to overfitting in small datasets."
   ]
  },
  {
   "cell_type": "code",
   "execution_count": null,
   "id": "7c62618a",
   "metadata": {},
   "outputs": [],
   "source": [
    "lin_reg = LinearRegression()\n",
    "lin_reg.fit(X_train, y_train)\n",
    "predictions = lin_reg.predict(X_test)\n",
    "\n",
    "mae, mse, rmse, r_squared = evaluation(y_test, predictions)\n",
    "print(\"MAE:\", mae)\n",
    "print(\"MSE:\", mse)\n",
    "print(\"RMSE:\", rmse)\n",
    "print(\"R2 Score:\", r_squared)\n",
    "print(\"-\"*30)\n",
    "rmse_cross_val = rmse_cv(lin_reg)\n",
    "print(\"RMSE Cross-Validation:\", rmse_cross_val)\n",
    "save(lin_reg, 'linear_regression')"
   ]
  },
  {
   "cell_type": "code",
   "execution_count": null,
   "id": "31837046",
   "metadata": {},
   "outputs": [],
   "source": [
    "new_row = {\"Model\": [\"LinearRegression\"],\n",
    "           \"MAE\": [mae],\n",
    "           \"MSE\": [mse],\n",
    "           \"RMSE\": [rmse],\n",
    "           \"R2 Score\": [r_squared],\n",
    "           \"RMSE (Cross-Validation)\": [rmse_cross_val]}\n",
    "new_row = pd.DataFrame.from_dict(new_row)\n",
    "\n",
    "models = pd.concat([models, new_row])\n",
    "models.reset_index()\n",
    "models\n",
    "\n",
    "plot_model_performance(y_test, predictions, new_row['Model'])"
   ]
  },
  {
   "cell_type": "markdown",
   "id": "b2c8855a",
   "metadata": {},
   "source": [
    "### Ridge Regression\n",
    "\n",
    "takes a step further and penalizes the model for the sum of squared value of the weights.\n",
    "\n",
    "Thus, the weights not only tend to have smaller absolute values, but also really tend to penalize the extremes of the weights, resulting in a group of weights that are more evenly distributed."
   ]
  },
  {
   "cell_type": "code",
   "execution_count": null,
   "id": "d73f2c1c",
   "metadata": {},
   "outputs": [],
   "source": [
    "ridge = Ridge()\n",
    "ridge.fit(X_train, y_train)\n",
    "predictions = ridge.predict(X_test)\n",
    "\n",
    "mae, mse, rmse, r_squared = evaluation(y_test, predictions)\n",
    "print(\"MAE:\", mae)\n",
    "print(\"MSE:\", mse)\n",
    "print(\"RMSE:\", rmse)\n",
    "print(\"R2 Score:\", r_squared)\n",
    "print(\"-\"*30)\n",
    "rmse_cross_val = rmse_cv(ridge)\n",
    "print(\"RMSE Cross-Validation:\", rmse_cross_val)\n",
    "save(ridge, 'ridge_regression')"
   ]
  },
  {
   "cell_type": "code",
   "execution_count": null,
   "id": "c4d11875",
   "metadata": {},
   "outputs": [],
   "source": [
    "new_row = {\"Model\": [\"RigdeRegression\"],\n",
    "           \"MAE\": [mae],\n",
    "           \"MSE\": [mse],\n",
    "           \"RMSE\": [rmse],\n",
    "           \"R2 Score\": [r_squared],\n",
    "           \"RMSE (Cross-Validation)\": [rmse_cross_val]}\n",
    "new_row = pd.DataFrame.from_dict(new_row)\n",
    "\n",
    "models = pd.concat([models, new_row])\n",
    "models.reset_index()\n",
    "models\n",
    "\n",
    "plot_model_performance(y_test, predictions, new_row['Model'])"
   ]
  },
  {
   "cell_type": "markdown",
   "id": "a8183339",
   "metadata": {},
   "source": [
    "### Lasso Regression\n",
    "is a modification of linear regression, where the model is penalized for the sum of absolute values of the weights.\n",
    "\n",
    "Thus, the absolute values of weight will be (in general) reduced, and many will tend to be zeros."
   ]
  },
  {
   "cell_type": "code",
   "execution_count": null,
   "id": "abb52d03",
   "metadata": {},
   "outputs": [],
   "source": [
    "lasso = Lasso()\n",
    "lasso.fit(X_train, y_train)\n",
    "predictions = lasso.predict(X_test)\n",
    "\n",
    "mae, mse, rmse, r_squared = evaluation(y_test, predictions)\n",
    "print(\"MAE:\", mae)\n",
    "print(\"MSE:\", mse)\n",
    "print(\"RMSE:\", rmse)\n",
    "print(\"R2 Score:\", r_squared)\n",
    "print(\"-\"*30)\n",
    "rmse_cross_val = rmse_cv(lasso)\n",
    "print(\"RMSE Cross-Validation:\", rmse_cross_val)\n",
    "save(lasso, 'lasso_regression')\n"
   ]
  },
  {
   "cell_type": "code",
   "execution_count": null,
   "id": "27aec198",
   "metadata": {},
   "outputs": [],
   "source": [
    "new_row = {\"Model\": [\"LassoRegression\"],\n",
    "           \"MAE\": [mae],\n",
    "           \"MSE\": [mse],\n",
    "           \"RMSE\": [rmse],\n",
    "           \"R2 Score\": [r_squared],\n",
    "           \"RMSE (Cross-Validation)\": [rmse_cross_val]}\n",
    "new_row = pd.DataFrame.from_dict(new_row)\n",
    "\n",
    "models = pd.concat([models, new_row])\n",
    "models.reset_index()\n",
    "models\n",
    "\n",
    "plot_model_performance(y_test, predictions, new_row['Model'])"
   ]
  },
  {
   "cell_type": "markdown",
   "id": "c33f4956",
   "metadata": {},
   "source": [
    "### Elastic Net\n",
    "is a hybrid of Lasso and Ridge, where both the absolute value penalization and squared penalization are included, being regulated with another coefficient l1_ratio:"
   ]
  },
  {
   "cell_type": "code",
   "execution_count": null,
   "id": "81cb843c",
   "metadata": {},
   "outputs": [],
   "source": [
    "elastic_net = ElasticNet()\n",
    "elastic_net.fit(X_train, y_train)\n",
    "predictions = elastic_net.predict(X_test)\n",
    "\n",
    "mae, mse, rmse, r_squared = evaluation(y_test, predictions)\n",
    "print(\"MAE:\", mae)\n",
    "print(\"MSE:\", mse)\n",
    "print(\"RMSE:\", rmse)\n",
    "print(\"R2 Score:\", r_squared)\n",
    "print(\"-\"*30)\n",
    "rmse_cross_val = rmse_cv(elastic_net)\n",
    "print(\"RMSE Cross-Validation:\", rmse_cross_val)\n",
    "save(elastic_net, 'elastic_net')"
   ]
  },
  {
   "cell_type": "code",
   "execution_count": null,
   "id": "97b2120a",
   "metadata": {},
   "outputs": [],
   "source": [
    "new_row = {\"Model\": [\"ENETRegression\"],\n",
    "           \"MAE\": [mae],\n",
    "           \"MSE\": [mse],\n",
    "           \"RMSE\": [rmse],\n",
    "           \"R2 Score\": [r_squared],\n",
    "           \"RMSE (Cross-Validation)\": [rmse_cross_val]}\n",
    "new_row = pd.DataFrame.from_dict(new_row)\n",
    "\n",
    "models = pd.concat([models, new_row])\n",
    "models.reset_index()\n",
    "models\n",
    "\n",
    "plot_model_performance(y_test, predictions, new_row['Model'])"
   ]
  },
  {
   "cell_type": "markdown",
   "id": "2a030798",
   "metadata": {},
   "source": [
    "### Random Forest Regressor"
   ]
  },
  {
   "cell_type": "code",
   "execution_count": null,
   "id": "5736ed04",
   "metadata": {},
   "outputs": [],
   "source": [
    "random_forest = RandomForestRegressor(n_estimators=100)\n",
    "random_forest.fit(X_train, y_train)\n",
    "predictions = random_forest.predict(X_test)\n",
    "\n",
    "mae, mse, rmse, r_squared = evaluation(y_test, predictions)\n",
    "print(\"MAE:\", mae)\n",
    "print(\"MSE:\", mse)\n",
    "print(\"RMSE:\", rmse)\n",
    "print(\"R2 Score:\", r_squared)\n",
    "print(\"-\"*30)\n",
    "rmse_cross_val = rmse_cv(random_forest)\n",
    "print(\"RMSE Cross-Validation:\", rmse_cross_val)\n",
    "save(random_forest, 'random_forest')\n"
   ]
  },
  {
   "cell_type": "code",
   "execution_count": null,
   "id": "aeb84c2d",
   "metadata": {},
   "outputs": [],
   "source": [
    "n_estimators = [5,20,50,100] # number of trees in the random forest\n",
    "max_depth = [int(x) for x in np.linspace(10, 120, num = 12)] # maximum number of levels allowed in each decision tree\n",
    "min_samples_split = [2, 6, 10] # minimum sample number to split a node\n",
    "min_samples_leaf = [1, 3, 4] # minimum sample number that can be stored in a leaf node\n",
    "bootstrap = [True, False] # method used to sample data points\n",
    "\n",
    "random_grid = {'n_estimators': n_estimators,\n",
    "\n",
    "\n",
    "'max_depth': max_depth,\n",
    "\n",
    "'min_samples_split': min_samples_split,\n",
    "\n",
    "'min_samples_leaf': min_samples_leaf,\n",
    "\n",
    "'bootstrap': bootstrap}"
   ]
  },
  {
   "cell_type": "code",
   "execution_count": null,
   "id": "5047f9d1",
   "metadata": {},
   "outputs": [],
   "source": [
    "rf = RandomForestRegressor()"
   ]
  },
  {
   "cell_type": "code",
   "execution_count": null,
   "id": "730c6306",
   "metadata": {},
   "outputs": [],
   "source": [
    "from sklearn.model_selection import RandomizedSearchCV\n",
    "rf_random = RandomizedSearchCV(estimator = rf,param_distributions = random_grid,\n",
    "               n_iter = 100, cv = 5, verbose=2, random_state=35, n_jobs = -1)"
   ]
  },
  {
   "cell_type": "code",
   "execution_count": null,
   "id": "8c0c330b",
   "metadata": {},
   "outputs": [],
   "source": [
    "rf_random.fit(X_train, y_train)"
   ]
  },
  {
   "cell_type": "code",
   "execution_count": null,
   "id": "bd64bc53",
   "metadata": {},
   "outputs": [],
   "source": [
    "print ('Random grid: ', random_grid, '\\n')\n",
    "# print the best parameters\n",
    "print ('Best Parameters: ', rf_random.best_params_, ' \\n')"
   ]
  },
  {
   "cell_type": "code",
   "execution_count": null,
   "id": "b18aa18a",
   "metadata": {},
   "outputs": [],
   "source": [
    "randmf = RandomForestRegressor(n_estimators = 100, min_samples_split = 2, min_samples_leaf= 1, max_depth= 20, bootstrap=True) \n",
    "randmf.fit( X_train, y_train)\n",
    "predictions = randmf.predict(X_test)\n",
    "\n",
    "mae, mse, rmse, r_squared = evaluation(y_test, predictions)\n",
    "print(\"MAE:\", mae)\n",
    "print(\"MSE:\", mse)\n",
    "print(\"RMSE:\", rmse)\n",
    "print(\"R2 Score:\", r_squared)\n",
    "print(\"-\"*30)\n",
    "rmse_cross_val = rmse_cv(random_forest)\n",
    "print(\"RMSE Cross-Validation:\", rmse_cross_val)\n",
    "save(random_forest, 'random_forest')\n"
   ]
  },
  {
   "cell_type": "code",
   "execution_count": null,
   "id": "747785dd",
   "metadata": {},
   "outputs": [],
   "source": [
    "plot_model_performance(y_test, predictions, new_row['Model'])"
   ]
  },
  {
   "cell_type": "code",
   "execution_count": null,
   "id": "f8d2b989",
   "metadata": {},
   "outputs": [],
   "source": [
    "new_row = {\"Model\": [\"RandomForestRegression\"],\n",
    "           \"MAE\": [mae],\n",
    "           \"MSE\": [mse],\n",
    "           \"RMSE\": [rmse],\n",
    "           \"R2 Score\": [r_squared],\n",
    "           \"RMSE (Cross-Validation)\": [rmse_cross_val]}\n",
    "new_row = pd.DataFrame.from_dict(new_row)\n",
    "\n",
    "models = pd.concat([models, new_row])\n",
    "models.reset_index()\n",
    "models\n",
    "\n",
    "plot_model_performance(y_test, predictions, new_row['Model'])"
   ]
  },
  {
   "cell_type": "markdown",
   "id": "0554e770",
   "metadata": {},
   "source": [
    "### XGBoost Regressor"
   ]
  },
  {
   "cell_type": "code",
   "execution_count": null,
   "id": "d259b96c",
   "metadata": {},
   "outputs": [],
   "source": [
    "xgb = XGBRegressor(n_estimators=100, learning_rate=0.01)\n",
    "xgb.fit(X_train, y_train)\n",
    "predictions = xgb.predict(X_test)\n",
    "\n",
    "mae, mse, rmse, r_squared = evaluation(y_test, predictions)\n",
    "print(\"MAE:\", mae)\n",
    "print(\"MSE:\", mse)\n",
    "print(\"RMSE:\", rmse)\n",
    "print(\"R2 Score:\", r_squared)\n",
    "print(\"-\"*30)\n",
    "rmse_cross_val = rmse_cv(xgb)\n",
    "print(\"RMSE Cross-Validation:\", rmse_cross_val)\n",
    "save(xgb, 'xgb_regressor')"
   ]
  },
  {
   "cell_type": "code",
   "execution_count": null,
   "id": "1fa73cba",
   "metadata": {},
   "outputs": [],
   "source": [
    "import sklearn\n",
    "from sklearn import datasets\n",
    "from sklearn.model_selection import train_test_split\n",
    "from sklearn.preprocessing import MinMaxScaler\n",
    "from sklearn.pipeline import Pipeline\n",
    "\n",
    "from xgboost import XGBRegressor\n",
    "\n",
    "\n",
    "\n",
    "pipeline = Pipeline([('scaler', MinMaxScaler()), ('regressor', XGBRegressor())])\n",
    "pipeline.fit(X_train, y_train)"
   ]
  },
  {
   "cell_type": "code",
   "execution_count": null,
   "id": "c83fd91d",
   "metadata": {},
   "outputs": [],
   "source": [
    "pipeline.score(X_test, y_test)"
   ]
  },
  {
   "cell_type": "code",
   "execution_count": null,
   "id": "de1f3f05",
   "metadata": {},
   "outputs": [],
   "source": [
    "pipeline.get_params().keys()"
   ]
  },
  {
   "cell_type": "code",
   "execution_count": null,
   "id": "c0ee91c2",
   "metadata": {},
   "outputs": [],
   "source": [
    "hyperparameter_grid = {\n",
    "    'regressor__n_estimators': [100, 500, 1000, 2000],\n",
    "    'regressor__max_depth': [3, 6, 9, 12],\n",
    "    'regressor__learning_rate': [0.01, 0.03, 0.05, 0.1]\n",
    "}\n",
    "\n",
    "\n",
    "random_cv = sklearn.model_selection.RandomizedSearchCV(estimator=pipeline,\n",
    "            param_distributions=hyperparameter_grid,\n",
    "            cv=5, \n",
    "            n_iter=100,\n",
    "            scoring = 'neg_root_mean_squared_error',\n",
    "            n_jobs = -1,\n",
    "            verbose = 5, \n",
    "            return_train_score = True,\n",
    "            random_state=42)\n",
    "\n",
    "\n",
    "\n",
    "random_cv.fit(X_train, y_train)"
   ]
  },
  {
   "cell_type": "code",
   "execution_count": null,
   "id": "b67d081c",
   "metadata": {},
   "outputs": [],
   "source": [
    "best_pipe = random_cv.best_estimator_"
   ]
  },
  {
   "cell_type": "code",
   "execution_count": null,
   "id": "c98c0b19",
   "metadata": {},
   "outputs": [],
   "source": [
    "best_pipe"
   ]
  },
  {
   "cell_type": "code",
   "execution_count": null,
   "id": "e8135e8d",
   "metadata": {},
   "outputs": [],
   "source": [
    "best_pipe.score(X_test, y_test)"
   ]
  },
  {
   "cell_type": "code",
   "execution_count": null,
   "id": "24c7b076",
   "metadata": {},
   "outputs": [],
   "source": [
    "new_row = {\"Model\": [\"XGBRegression\"],\n",
    "           \"MAE\": [mae],\n",
    "           \"MSE\": [mse],\n",
    "           \"RMSE\": [rmse],\n",
    "           \"R2 Score\": [r_squared],\n",
    "           \"RMSE (Cross-Validation)\": [rmse_cross_val]}\n",
    "new_row = pd.DataFrame.from_dict(new_row)\n",
    "\n",
    "models = pd.concat([models, new_row])\n",
    "models.reset_index()\n",
    "models\n",
    "\n",
    "plot_model_performance(y_test, predictions, new_row['Model'])"
   ]
  },
  {
   "cell_type": "markdown",
   "id": "0595b6e0",
   "metadata": {},
   "source": [
    "### Model Comparison\n",
    "The less the Root Mean Squared Error (RMSE), The better the model is."
   ]
  },
  {
   "cell_type": "code",
   "execution_count": null,
   "id": "a267fa0c",
   "metadata": {},
   "outputs": [],
   "source": [
    "models.sort_values(by=\"RMSE (Cross-Validation)\")"
   ]
  },
  {
   "cell_type": "code",
   "execution_count": null,
   "id": "273175df",
   "metadata": {},
   "outputs": [],
   "source": [
    "plt.figure(figsize=(12,8))\n",
    "sns.barplot(x=models[\"Model\"], y=models[\"RMSE (Cross-Validation)\"])\n",
    "plt.title(\"Models' RMSE Scores (Cross-Validated)\", size=15)\n",
    "plt.xticks(rotation=30, size=12)\n",
    "plt.show()"
   ]
  },
  {
   "cell_type": "code",
   "execution_count": null,
   "id": "b008d721",
   "metadata": {},
   "outputs": [],
   "source": []
  }
 ],
 "metadata": {
  "kernelspec": {
   "display_name": "Python 3 (ipykernel)",
   "language": "python",
   "name": "python3"
  },
  "language_info": {
   "codemirror_mode": {
    "name": "ipython",
    "version": 3
   },
   "file_extension": ".py",
   "mimetype": "text/x-python",
   "name": "python",
   "nbconvert_exporter": "python",
   "pygments_lexer": "ipython3",
   "version": "3.10.6"
  },
  "varInspector": {
   "cols": {
    "lenName": 16,
    "lenType": 16,
    "lenVar": 40
   },
   "kernels_config": {
    "python": {
     "delete_cmd_postfix": "",
     "delete_cmd_prefix": "del ",
     "library": "var_list.py",
     "varRefreshCmd": "print(var_dic_list())"
    },
    "r": {
     "delete_cmd_postfix": ") ",
     "delete_cmd_prefix": "rm(",
     "library": "var_list.r",
     "varRefreshCmd": "cat(var_dic_list()) "
    }
   },
   "types_to_exclude": [
    "module",
    "function",
    "builtin_function_or_method",
    "instance",
    "_Feature"
   ],
   "window_display": false
  }
 },
 "nbformat": 4,
 "nbformat_minor": 5
}
